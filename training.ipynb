{
 "cells": [
  {
   "cell_type": "markdown",
   "metadata": {},
   "source": [
    "# Generate some data\n",
    "The script is copied is from\n",
    "http://amp.readthedocs.io/en/latest/examplescripts.html,\n",
    "We used a larger cell due to the limited PBC implementation in our code."
   ]
  },
  {
   "cell_type": "code",
   "execution_count": null,
   "metadata": {},
   "outputs": [],
   "source": [
    "import os\n",
    "from ase import Atoms, Atom, units\n",
    "import ase.io\n",
    "from ase.calculators.emt import EMT\n",
    "from ase.build.surface import fcc110\n",
    "from ase.md.velocitydistribution import MaxwellBoltzmannDistribution\n",
    "from ase.md import VelocityVerlet\n",
    "from ase.constraints import FixAtoms\n",
    "import nglview as nv\n",
    "\n",
    "def generate_data(count, filename='training.traj'):\n",
    "    \"\"\"Generates test or training data with a simple MD simulation.\"\"\"\n",
    "    if os.path.exists(filename):\n",
    "        os.remove(filename)\n",
    "    traj = ase.io.Trajectory(filename, 'w')\n",
    "    atoms = fcc110('Pt', (4, 5, 2), vacuum=7.)\n",
    "    atoms.extend(Atoms([Atom('Cu', atoms[7].position + (0., 0., 2.5)),\n",
    "                        Atom('Cu', atoms[7].position + (0., 0., 5.)),\n",
    "                        Atom('Cu', atoms[17].position + (0., 0., 2.5)),\n",
    "                        Atom('Cu', atoms[17].position + (0., 0., 5.))]))\n",
    "    atoms.set_constraint(FixAtoms(indices=[0, 2]))\n",
    "    atoms.set_calculator(EMT())\n",
    "    atoms.get_potential_energy()\n",
    "    traj.write(atoms)\n",
    "    MaxwellBoltzmannDistribution(atoms, 300. * units.kB)\n",
    "    dyn = VelocityVerlet(atoms, dt=1. * units.fs)\n",
    "    for step in range(count - 1):\n",
    "        dyn.run(50)\n",
    "        traj.write(atoms)\n",
    "\n",
    "generate_data(20)"
   ]
  },
  {
   "cell_type": "markdown",
   "metadata": {},
   "source": [
    "# Training"
   ]
  },
  {
   "cell_type": "code",
   "execution_count": null,
   "metadata": {},
   "outputs": [],
   "source": [
    "from bpnn import BPNN"
   ]
  },
  {
   "cell_type": "code",
   "execution_count": null,
   "metadata": {},
   "outputs": [],
   "source": [
    "from ase.io import read\n",
    "import nglview as nv\n",
    "traj = read('training.traj',index=':')\n",
    "nv.show_asetraj(traj)"
   ]
  },
  {
   "cell_type": "code",
   "execution_count": null,
   "metadata": {},
   "outputs": [],
   "source": [
    "calc = BPNN(symbols=['Pt','Cu'])\n",
    "costs = calc.train(dataset=[traj],max_steps=1000,learning_rate=0.03)"
   ]
  },
  {
   "cell_type": "code",
   "execution_count": null,
   "metadata": {},
   "outputs": [],
   "source": [
    "%matplotlib inline\n",
    "import matplotlib.pyplot as plt\n",
    "plt.plot(costs[100:])"
   ]
  }
 ],
 "metadata": {
  "kernelspec": {
   "display_name": "Python 3",
   "language": "python",
   "name": "python3"
  },
  "language_info": {
   "codemirror_mode": {
    "name": "ipython",
    "version": 3
   },
   "file_extension": ".py",
   "mimetype": "text/x-python",
   "name": "python",
   "nbconvert_exporter": "python",
   "pygments_lexer": "ipython3",
   "version": "3.6.3"
  },
  "toc": {
   "nav_menu": {},
   "number_sections": true,
   "sideBar": true,
   "skip_h1_title": false,
   "toc_cell": false,
   "toc_position": {},
   "toc_section_display": "block",
   "toc_window_display": false
  }
 },
 "nbformat": 4,
 "nbformat_minor": 2
}
